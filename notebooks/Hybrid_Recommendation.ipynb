{
 "cells": [
  {
   "cell_type": "code",
   "execution_count": null,
   "metadata": {},
   "outputs": [],
   "source": [
    "# Step 1: Preprocess Data\n",
    "import pandas as pd\n",
    "\n",
    "interactions = pd.read_csv('../data/interactions.csv')\n",
    "metadata = pd.read_csv('../data/product_metadata.csv')\n",
    "\n",
    "# Step 2: Train Collaborative Filtering\n",
    "from src.collaborative_filtering import CollaborativeFiltering\n",
    "cf = CollaborativeFiltering()\n",
    "cf.train(interactions)\n",
    "cf.save_model('../models/cf_model.pkl')\n",
    "\n",
    "# Step 3: Train NLP Model\n",
    "from src.nlp_engine import NLPFiltering\n",
    "nlp = NLPFiltering()\n",
    "metadata['processed_text'] = metadata['description'].str.lower().str.replace('[^\\w\\s]', '')\n",
    "nlp.train(metadata)\n",
    "nlp.generate_embeddings(metadata)\n",
    "nlp.save_model('../models/word2vec.model')\n",
    "\n",
    "# Step 4: Evaluate Hybrid Model\n",
    "from src.hybrid_engine import HybridRecommender\n",
    "recommender = HybridRecommender(cf.model, nlp.word2vec, metadata)\n",
    "recommendations = recommender.recommend('A10000012B4V7Y3U4W5')  # Example user_id\n",
    "print(recommendations)"
   ]
  }
 ],
 "metadata": {
  "kernelspec": {
   "display_name": "Python 3",
   "language": "python",
   "name": "python3"
  },
  "language_info": {
   "codemirror_mode": {
    "name": "ipython",
    "version": 3
   },
   "file_extension": ".py",
   "mimetype": "text/x-python",
   "name": "python",
   "nbconvert_exporter": "python",
   "pygments_lexer": "ipython3",
   "version": "3.12.1"
  }
 },
 "nbformat": 4,
 "nbformat_minor": 4
}
